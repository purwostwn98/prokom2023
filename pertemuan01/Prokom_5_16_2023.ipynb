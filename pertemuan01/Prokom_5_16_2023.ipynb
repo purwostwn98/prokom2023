{
  "nbformat": 4,
  "nbformat_minor": 0,
  "metadata": {
    "colab": {
      "provenance": []
    },
    "kernelspec": {
      "name": "python3",
      "display_name": "Python 3"
    },
    "language_info": {
      "name": "python"
    }
  },
  "cells": [
    {
      "cell_type": "code",
      "execution_count": 4,
      "metadata": {
        "colab": {
          "base_uri": "https://localhost:8080/"
        },
        "id": "FBk1hoTLEp7V",
        "outputId": "aa99378b-3d3c-45ba-e691-4cd7255be634"
      },
      "outputs": [
        {
          "output_type": "stream",
          "name": "stdout",
          "text": [
            "0\n",
            "1\n",
            "2\n",
            "3\n",
            "4\n",
            "5\n",
            "6\n",
            "7\n",
            "8\n",
            "9\n"
          ]
        }
      ],
      "source": [
        "#For Loop\n",
        "\n",
        "for a in range(10):\n",
        "    print(a)"
      ]
    },
    {
      "cell_type": "code",
      "source": [
        "#While\n",
        "\n",
        "n = 10\n",
        "while n > 0:\n",
        "    print(n)\n",
        "    n = n - 2"
      ],
      "metadata": {
        "colab": {
          "base_uri": "https://localhost:8080/"
        },
        "id": "zJ9Md8v-Fap2",
        "outputId": "1fa486bf-83af-44fe-db47-643b582a1939"
      },
      "execution_count": 10,
      "outputs": [
        {
          "output_type": "stream",
          "name": "stdout",
          "text": [
            "10\n",
            "8\n",
            "6\n",
            "4\n",
            "2\n"
          ]
        }
      ]
    },
    {
      "cell_type": "code",
      "source": [
        "#List\n",
        "\n",
        "random = [3,6,7,2]\n",
        "print(random[1:])"
      ],
      "metadata": {
        "colab": {
          "base_uri": "https://localhost:8080/"
        },
        "id": "A4m0NCvbHGyQ",
        "outputId": "1bdf539f-113c-4858-c34f-5f15ce4e4c50"
      },
      "execution_count": 21,
      "outputs": [
        {
          "output_type": "stream",
          "name": "stdout",
          "text": [
            "[6, 7, 2]\n"
          ]
        }
      ]
    },
    {
      "cell_type": "code",
      "source": [
        "random = [3,6,7,2]\n",
        "random.append(10)\n",
        "random.append(9)\n",
        "random.append(0)\n",
        "print(random)"
      ],
      "metadata": {
        "colab": {
          "base_uri": "https://localhost:8080/"
        },
        "id": "9S8ph5sUIY5V",
        "outputId": "503e3192-f4b1-44a3-ad77-6867efc7bf7a"
      },
      "execution_count": 23,
      "outputs": [
        {
          "output_type": "stream",
          "name": "stdout",
          "text": [
            "[3, 6, 7, 2, 10, 9, 0]\n"
          ]
        }
      ]
    },
    {
      "cell_type": "code",
      "source": [
        "random = [3,6,7,2]\n",
        "random[3] = 5\n",
        "print(random)"
      ],
      "metadata": {
        "colab": {
          "base_uri": "https://localhost:8080/"
        },
        "id": "Yl0Y1O00IsgG",
        "outputId": "76ac0b53-3278-4197-889b-406ab641e173"
      },
      "execution_count": 24,
      "outputs": [
        {
          "output_type": "stream",
          "name": "stdout",
          "text": [
            "[3, 6, 7, 5]\n"
          ]
        }
      ]
    },
    {
      "cell_type": "code",
      "source": [
        "random = [3,6,7,2]\n",
        "x = 0\n",
        "for i in random:\n",
        "    random[x] = random[x] + 2\n",
        "    x = x + 1\n",
        "print(random)"
      ],
      "metadata": {
        "colab": {
          "base_uri": "https://localhost:8080/"
        },
        "id": "6p2w4sq5I2j4",
        "outputId": "5fe9c21e-03fc-49b4-e839-e0949364ee3a"
      },
      "execution_count": 36,
      "outputs": [
        {
          "output_type": "stream",
          "name": "stdout",
          "text": [
            "[5, 8, 9, 4]\n"
          ]
        }
      ]
    },
    {
      "cell_type": "code",
      "source": [
        "# Function\n",
        "\n",
        "def kirim_pesan(isi_pesan):\n",
        "    print(\"Isi pesan:\", isi_pesan)\n",
        "\n",
        "# kirim_pesan(\"Selamat pagi\")\n",
        "# kirim_pesan(\"Hallo, apa kabar?\")\n",
        "\n",
        "def volume_tabung(r,t):\n",
        "    v_t = 3.14 * r**2 * t\n",
        "    print(v_t)\n",
        "\n",
        "volume_tabung(6,5)\n",
        "volume_tabung(8,4)"
      ],
      "metadata": {
        "colab": {
          "base_uri": "https://localhost:8080/"
        },
        "id": "hjJEy57LLTdo",
        "outputId": "f9fb20ae-e197-4295-e481-2fa3d5160e51"
      },
      "execution_count": 42,
      "outputs": [
        {
          "output_type": "stream",
          "name": "stdout",
          "text": [
            "565.2\n",
            "803.84\n"
          ]
        }
      ]
    },
    {
      "cell_type": "code",
      "source": [
        "#Soal\n",
        "# 10 + 9 + 8 + 7 + .... + 1 = 55\n",
        "\n",
        "n = int(input())\n",
        "a = n\n",
        "while n > 0:\n",
        "    a = a + (n-1)\n",
        "    n = n - 1\n",
        "    print(n)\n",
        "print(a)"
      ],
      "metadata": {
        "colab": {
          "base_uri": "https://localhost:8080/"
        },
        "id": "fnVzXjVkOIqz",
        "outputId": "6249b52a-326f-49b7-8da8-9120bf1c2028"
      },
      "execution_count": 50,
      "outputs": [
        {
          "output_type": "stream",
          "name": "stdout",
          "text": [
            "10\n",
            "9\n",
            "8\n",
            "7\n",
            "6\n",
            "5\n",
            "4\n",
            "3\n",
            "2\n",
            "1\n",
            "0\n",
            "55\n"
          ]
        }
      ]
    },
    {
      "cell_type": "code",
      "source": [
        "def Sum(n):\n",
        "    if n <= 0:\n",
        "        return n\n",
        "    else:\n",
        "        n = n + Sum(n-1)\n",
        "        return n\n",
        "\n",
        "Sum(10)"
      ],
      "metadata": {
        "colab": {
          "base_uri": "https://localhost:8080/"
        },
        "id": "tp7QBRcYPsK3",
        "outputId": "24fcc6d4-28ba-47c1-ce58-8e7c9f2909cf"
      },
      "execution_count": 51,
      "outputs": [
        {
          "output_type": "execute_result",
          "data": {
            "text/plain": [
              "55"
            ]
          },
          "metadata": {},
          "execution_count": 51
        }
      ]
    },
    {
      "cell_type": "code",
      "source": [
        "##oop\n",
        "\n",
        "class Hewan:\n",
        "    def __init__(self, nama, jenis, tinggal, jmlKaki):\n",
        "        self.namaHwn = nama\n",
        "        self.jenisHwn = jenis\n",
        "        self.tinggalHwn = tinggal\n",
        "        self.jmlKaki = jmlKaki\n",
        "\n",
        "    def berlari(self, cara_lari):\n",
        "        print(self.namaHwn,\"\",cara_lari,\"di\", self.tinggalHwn)\n",
        "\n",
        "kucing = Hewan(\"Verry\", \"Mamalia\", \"Darat\", 4)\n",
        "hiu = Hewan(\"Doni\", \"Mamalia\", \"Laut\", 0)\n",
        "kucing.berlari(\"melompat\")\n",
        "hiu.berlari(\"terbang\")"
      ],
      "metadata": {
        "colab": {
          "base_uri": "https://localhost:8080/"
        },
        "id": "0Onji5VxQKYx",
        "outputId": "8ad19c09-66d4-4314-f95b-2f3f52c39eb8"
      },
      "execution_count": 59,
      "outputs": [
        {
          "output_type": "stream",
          "name": "stdout",
          "text": [
            "Verry  melompat di Darat\n",
            "Doni  terbang di Laut\n"
          ]
        }
      ]
    },
    {
      "cell_type": "code",
      "source": [
        "class Kalkulator:\n",
        "    def __init__(self, angka1, angka2):\n",
        "        self.angka01 = angka1\n",
        "        self.angka02 = angka2\n",
        "\n",
        "    def penjumlahan(self):\n",
        "        jumlah = self.angka01 + self.angka02\n",
        "        print(jumlah)\n",
        "\n",
        "    def perkalian(self):\n",
        "        kali = self.angka01 * self.angka02\n",
        "        print(kali)\n",
        "\n",
        "    def pembagian(self):\n",
        "        bagi = self.angka01 / self.angka02\n",
        "        print(bagi)\n",
        "\n",
        "bilangan = Kalkulator(7,8)\n",
        "bilangan.perkalian()\n",
        "bilangan.penjumlahan()\n",
        "bilangan.pembagian()"
      ],
      "metadata": {
        "colab": {
          "base_uri": "https://localhost:8080/"
        },
        "id": "DdwIvuCUTRN7",
        "outputId": "da3b7603-e352-4624-884a-687c3f43f779"
      },
      "execution_count": 62,
      "outputs": [
        {
          "output_type": "stream",
          "name": "stdout",
          "text": [
            "56\n",
            "15\n",
            "0.875\n"
          ]
        }
      ]
    }
  ]
}